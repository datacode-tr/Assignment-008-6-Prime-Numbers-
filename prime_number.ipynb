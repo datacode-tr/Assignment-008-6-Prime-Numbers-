{
  "nbformat": 4,
  "nbformat_minor": 0,
  "metadata": {
    "colab": {
      "name": "prime_number",
      "provenance": [],
      "collapsed_sections": [],
      "authorship_tag": "ABX9TyOr3cYzn6S/qWW6UhpWcUQ3",
      "include_colab_link": true
    },
    "kernelspec": {
      "name": "python3",
      "display_name": "Python 3"
    },
    "language_info": {
      "name": "python"
    }
  },
  "cells": [
    {
      "cell_type": "markdown",
      "metadata": {
        "id": "view-in-github",
        "colab_type": "text"
      },
      "source": [
        "<a href=\"https://colab.research.google.com/github/datacode-tr/Assignment-008-6-Prime-Numbers-/blob/main/prime_number.ipynb\" target=\"_parent\"><img src=\"https://colab.research.google.com/assets/colab-badge.svg\" alt=\"Open In Colab\"/></a>"
      ]
    },
    {
      "cell_type": "code",
      "metadata": {
        "colab": {
          "base_uri": "https://localhost:8080/"
        },
        "id": "AEmOKvaPdN1f",
        "outputId": "bdbf39f8-562d-4cc7-829b-ddda5a4ec52f"
      },
      "source": [
        "num = int(input(\"Enter the number : \"))\n",
        "pri_ls=[]\n",
        "for num in range(2,num):\n",
        "    if all(num%i!=0 for i in range(2,num)):\n",
        "      pri_ls.append(num)\n",
        "print(pri_ls)"
      ],
      "execution_count": 31,
      "outputs": [
        {
          "output_type": "stream",
          "text": [
            "Enter the number : 100\n",
            "[2, 3, 5, 7, 11, 13, 17, 19, 23, 29, 31, 37, 41, 43, 47, 53, 59, 61, 67, 71, 73, 79, 83, 89, 97]\n"
          ],
          "name": "stdout"
        }
      ]
    }
  ]
}